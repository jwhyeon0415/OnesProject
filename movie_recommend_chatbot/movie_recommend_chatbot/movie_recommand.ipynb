version https://git-lfs.github.com/spec/v1
oid sha256:40cb657bd15b25cb9de728066d6d005ef742b8d7fce1dde9ba79e4246c913897
size 67001
