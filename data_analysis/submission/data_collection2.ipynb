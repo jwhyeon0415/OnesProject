{
 "cells": [
  {
   "cell_type": "markdown",
   "id": "61421263",
   "metadata": {},
   "source": [
    "기존 가져온 자료가 잘못됨..\n",
    "기록 페이지에서 화살표 버튼이 있던 걸 모르고 반쪽만 가져옴\n",
    "그래서 다시 스크래핑"
   ]
  },
  {
   "cell_type": "code",
   "execution_count": null,
   "id": "02240efb",
   "metadata": {},
   "outputs": [],
   "source": []
  }
 ],
 "metadata": {
  "kernelspec": {
   "display_name": "Python 3 (ipykernel)",
   "language": "python",
   "name": "python3"
  },
  "language_info": {
   "codemirror_mode": {
    "name": "ipython",
    "version": 3
   },
   "file_extension": ".py",
   "mimetype": "text/x-python",
   "name": "python",
   "nbconvert_exporter": "python",
   "pygments_lexer": "ipython3",
   "version": "3.8.13"
  },
  "toc": {
   "base_numbering": 1,
   "nav_menu": {},
   "number_sections": true,
   "sideBar": true,
   "skip_h1_title": false,
   "title_cell": "Table of Contents",
   "title_sidebar": "Contents",
   "toc_cell": false,
   "toc_position": {},
   "toc_section_display": true,
   "toc_window_display": false
  }
 },
 "nbformat": 4,
 "nbformat_minor": 5
}
