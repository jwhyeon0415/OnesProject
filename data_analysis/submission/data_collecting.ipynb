{
 "cells": [
  {
   "cell_type": "markdown",
   "id": "6ce9e070",
   "metadata": {},
   "source": [
    "# 임포트"
   ]
  },
  {
   "cell_type": "code",
   "execution_count": null,
   "id": "e905368b",
   "metadata": {},
   "outputs": [],
   "source": [
    "from selenium import webdriver\n",
    "from bs4 import BeautifulSoup\n",
    "import pandas as pd\n",
    "from selenium.webdriver.common.by import By\n",
    "\n",
    "import re\n",
    "import time\n",
    "import os"
   ]
  },
  {
   "cell_type": "code",
   "execution_count": null,
   "id": "0f0cac40",
   "metadata": {},
   "outputs": [],
   "source": [
    "# 엑셀에 여러 시트로 저장하기 위한 모듈\n",
    "!pip install Xlsxwriter"
   ]
  },
  {
   "cell_type": "markdown",
   "id": "54650f57",
   "metadata": {},
   "source": [
    "# 데이터수집\n",
    "부문별로 나누어 저장(타자, 투수, 수비, 주루)"
   ]
  },
  {
   "cell_type": "code",
   "execution_count": null,
   "id": "2bbc2956",
   "metadata": {},
   "outputs": [],
   "source": [
    "driver = webdriver.Chrome(\"C:/Users/wbs04/workspace/chromedriver_win32/chromedriver.exe\")"
   ]
  },
  {
   "cell_type": "code",
   "execution_count": null,
   "id": "a9c4b736",
   "metadata": {},
   "outputs": [],
   "source": [
    "def go_to_page(selector):\n",
    "    global soup\n",
    "    click_on = driver.find_element(By.CSS_SELECTOR, selector)\n",
    "    click_on.click()\n",
    "    time.sleep(1)\n",
    "    soup = BeautifulSoup(driver.page_source, 'html.parser')"
   ]
  },
  {
   "cell_type": "code",
   "execution_count": null,
   "id": "d5d62011",
   "metadata": {},
   "outputs": [],
   "source": [
    "def make_dataframe():\n",
    "    col_names = []\n",
    "    record_col = soup.select(\"#cphContents_cphContents_cphContents_udpContent > div.record_result > table > thead > tr > th\")\n",
    "    for item in record_col:\n",
    "        col_names.append(item.text)\n",
    "        \n",
    "    return pd.DataFrame(columns=col_names)"
   ]
  },
  {
   "cell_type": "code",
   "execution_count": null,
   "id": "6edb2199",
   "metadata": {},
   "outputs": [],
   "source": [
    "# 해당 url로 이동\n",
    "url = \"https://www.koreabaseball.com\"\n",
    "driver.get(url)"
   ]
  },
  {
   "cell_type": "code",
   "execution_count": null,
   "id": "61b69546",
   "metadata": {},
   "outputs": [],
   "source": [
    "# 기록 -> 기록실로 이동\n",
    "go_to_page('#lnb > li:nth-child(3) > a')\n",
    "go_to_page('#lnb02')"
   ]
  },
  {
   "cell_type": "markdown",
   "id": "24e25352",
   "metadata": {},
   "source": [
    "## 타자기록\n",
    "2002년 이후 기록 값들이 바뀜, 세부기록 추가됨"
   ]
  },
  {
   "cell_type": "markdown",
   "id": "2f1cc591",
   "metadata": {},
   "source": [
    "### 1982~2001 타자기록"
   ]
  },
  {
   "cell_type": "code",
   "execution_count": null,
   "id": "7822a099",
   "metadata": {},
   "outputs": [],
   "source": [
    "# 타자부분에서 연도 선택 -> 팀 선택 -> 페이지 선택\n",
    "# hitter_dict = {{연도1:{팀1:기록, 팀2:기록, ...}}, {연도2:...}, ...}\n",
    "# 연도를 key값으로 갖고, value를 '팀을 key, 기록 데이터프레임을 value로 하는 딕셔너리'로 하는 딕셔너리\n",
    "\n",
    "# hitter_record 폴더 -> 연도별 엑셀 파일 -> 팀별 시트"
   ]
  },
  {
   "cell_type": "code",
   "execution_count": null,
   "id": "10260d99",
   "metadata": {},
   "outputs": [],
   "source": [
    "years = soup.select('#cphContents_cphContents_cphContents_ddlSeason_ddlSeason > option')\n",
    "hitter_dict = {}\n",
    "for idx, year in enumerate(years[:-22]):\n",
    "    season = year.text\n",
    "    print(f\"{season}시즌\")  # 스크래핑 완료 확인용\n",
    "    go_to_page(f'#cphContents_cphContents_cphContents_ddlSeason_ddlSeason > option:nth-child({idx+1})')\n",
    "\n",
    "\n",
    "    # 전체 팀에 대해 자료 가져오기(년도별)\n",
    "    team_dict = {}\n",
    "    teams = soup.select('#cphContents_cphContents_cphContents_ddlTeam_ddlTeam > option')\n",
    "    for idx, team in enumerate(teams[1:]):\n",
    "        df_record = pd.DataFrame(columns=col_names)\n",
    "\n",
    "        team_name = team.text.strip()\n",
    "        print(idx+1, team_name)  # 스크래핑 완료 확인용\n",
    "        go_to_page(f'#cphContents_cphContents_cphContents_ddlTeam_ddlTeam > option:nth-child({idx+2})')\n",
    "\n",
    "        # 페이지 길이\n",
    "        # 페이지 번호 길이\n",
    "        page_btn = soup.select(\"div.paging > a\")     \n",
    "        page_range = 2 if len(page_btn) == 1 else len(page_btn)-1\n",
    "\n",
    "        for j in range(1, page_range):\n",
    "            # 페이지 이동\n",
    "            go_to_page(f'#cphContents_cphContents_cphContents_ucPager_btnNo{j}')\n",
    "\n",
    "            # 데이터프레임에 선수 정보 한 행씩 추가\n",
    "            players_list = soup.select('#cphContents_cphContents_cphContents_udpContent > div.record_result > table > tbody > tr')\n",
    "            for player in players_list:\n",
    "                player_record = player.text.strip().split('\\n')\n",
    "                df_record.loc[len(df_record)] = player_record\n",
    "\n",
    "        team_dict[team_name] = df_record\n",
    "    hitter_dict[season] = team_dict\n",
    "    print('='*10)"
   ]
  },
  {
   "cell_type": "code",
   "execution_count": null,
   "id": "42924f96",
   "metadata": {},
   "outputs": [],
   "source": [
    "# 시트에 각각 저장\n",
    "for k, v in hitter_dict.items():\n",
    "    # 년도별 파일 생성\n",
    "    writer = pd.ExcelWriter(f'hitter_record/{k}.xlsx', engine='xlsxwriter')\n",
    "    for item in v.keys():\n",
    "        # 시트에 팀별로 저장\n",
    "        hitter_dict[k][item].to_excel(writer, sheet_name=item, index=False)\n",
    "    # 파일 저장\n",
    "    writer.save()"
   ]
  },
  {
   "cell_type": "markdown",
   "id": "4075a8b5",
   "metadata": {},
   "source": [
    "### 2002~2022 타자기록"
   ]
  },
  {
   "cell_type": "markdown",
   "id": "076a96c1",
   "metadata": {},
   "source": [
    "#### 기본기록"
   ]
  },
  {
   "cell_type": "code",
   "execution_count": null,
   "id": "31ba2614",
   "metadata": {},
   "outputs": [],
   "source": [
    "years = soup.select('#cphContents_cphContents_cphContents_ddlSeason_ddlSeason > option')\n",
    "hitter_dict = {}\n",
    "for idx, year in enumerate(years[-22:-1]):\n",
    "    season = year.text\n",
    "    print(f\"{season}시즌\")  # 스크래핑 완료 확인용\n",
    "    go_to_page(f'#cphContents_cphContents_cphContents_ddlSeason_ddlSeason > option:nth-child({idx+21})')\n",
    "\n",
    "\n",
    "    # 전체 팀에 대해 자료 가져오기(년도별)\n",
    "    team_dict = {}\n",
    "    teams = soup.select('#cphContents_cphContents_cphContents_ddlTeam_ddlTeam > option')\n",
    "    for idx, team in enumerate(teams[1:]):\n",
    "        df_record = pd.DataFrame(columns=col_names)\n",
    "\n",
    "        team_name = team.text\n",
    "        print(idx+1, team_name)  # 스크래핑 완료 확인용\n",
    "        go_to_page(f'#cphContents_cphContents_cphContents_ddlTeam_ddlTeam > option:nth-child({idx+2})')\n",
    "\n",
    "        # 페이지 길이\n",
    "        # 페이지 번호 길이\n",
    "        page_btn = soup.select(\"div.paging > a\")     \n",
    "        page_range = 2 if len(page_btn) == 1 else len(page_btn)-1\n",
    "\n",
    "        for j in range(1, page_range):\n",
    "            # 페이지 이동\n",
    "            go_to_page(f'#cphContents_cphContents_cphContents_ucPager_btnNo{j}')\n",
    "\n",
    "            # 데이터프레임에 선수 정보 한 행씩 추가\n",
    "            players_list = soup.select('#cphContents_cphContents_cphContents_udpContent > div.record_result > table > tbody > tr')\n",
    "            for player in players_list:\n",
    "                player_record = player.text.strip().split('\\n')\n",
    "                df_record.loc[len(df_record)] = player_record\n",
    "\n",
    "        team_dict[team_name] = df_record\n",
    "    hitter_dict[season] = team_dict\n",
    "    print('='*10)"
   ]
  },
  {
   "cell_type": "code",
   "execution_count": null,
   "id": "158f0f49",
   "metadata": {},
   "outputs": [],
   "source": [
    "# 시트에 각각 저장\n",
    "for k, v in hitter_dict.items():\n",
    "    # 년도별 파일 생성\n",
    "    writer = pd.ExcelWriter(f'hitter_record/{k}.xlsx', engine='xlsxwriter')\n",
    "    for item in v.keys():\n",
    "        # 시트에 팀별로 저장\n",
    "        hitter_dict[k][item].to_excel(writer, sheet_name=item, index=False)\n",
    "    # 파일 저장\n",
    "    writer.save()"
   ]
  },
  {
   "cell_type": "markdown",
   "id": "a165432f",
   "metadata": {},
   "source": [
    "#### 세부기록"
   ]
  },
  {
   "cell_type": "code",
   "execution_count": null,
   "id": "e997cfdd",
   "metadata": {},
   "outputs": [],
   "source": [
    "# 세부기록으로 이동\n",
    "go_to_page('#cphContents_cphContents_cphContents_udpContent > div.row > div.tab-depth3 > ul > li:nth-child(2) > a')"
   ]
  },
  {
   "cell_type": "code",
   "execution_count": null,
   "id": "5bce96dd",
   "metadata": {},
   "outputs": [],
   "source": [
    "years = soup.select('#cphContents_cphContents_cphContents_ddlSeason_ddlSeason > option')\n",
    "hitter_dict = {}\n",
    "for idx, year in enumerate(years[-21:]):\n",
    "    season = year.text\n",
    "    print(f\"{season}시즌\")  # 스크래핑 완료 확인용\n",
    "    go_to_page(f'#cphContents_cphContents_cphContents_ddlSeason_ddlSeason > option:nth-child({idx+21})')\n",
    "\n",
    "\n",
    "    # 전체 팀에 대해 자료 가져오기(년도별)\n",
    "    team_dict = {}\n",
    "    teams = soup.select('#cphContents_cphContents_cphContents_ddlTeam_ddlTeam > option')\n",
    "    for idx, team in enumerate(teams[1:]):\n",
    "        df_record = pd.DataFrame(columns=col_names)\n",
    "\n",
    "        team_name = team.text\n",
    "        print(idx+1, team_name)  # 스크래핑 완료 확인용\n",
    "        go_to_page(f'#cphContents_cphContents_cphContents_ddlTeam_ddlTeam > option:nth-child({idx+2})')\n",
    "\n",
    "        # 페이지 길이\n",
    "        # 페이지 번호 길이\n",
    "        page_btn = soup.select(\"div.paging > a\")     \n",
    "        page_range = 2 if len(page_btn) == 1 else len(page_btn)-1\n",
    "\n",
    "        for j in range(1, page_range):\n",
    "            # 페이지 이동\n",
    "            go_to_page(f'#cphContents_cphContents_cphContents_ucPager_btnNo{j}')\n",
    "\n",
    "            # 데이터프레임에 선수 정보 한 행씩 추가\n",
    "            players_list = soup.select('#cphContents_cphContents_cphContents_udpContent > div.record_result > table > tbody > tr')\n",
    "            for player in players_list:\n",
    "                player_record = player.text.strip().split('\\n')\n",
    "                df_record.loc[len(df_record)] = player_record\n",
    "\n",
    "        team_dict[team_name] = df_record\n",
    "    hitter_dict[season] = team_dict\n",
    "    print('='*10)"
   ]
  },
  {
   "cell_type": "code",
   "execution_count": null,
   "id": "ebbb7f3d",
   "metadata": {},
   "outputs": [],
   "source": [
    "# 시트에 각각 저장\n",
    "for k, v in hitter_dict.items():\n",
    "    # 년도별 파일 생성\n",
    "    writer = pd.ExcelWriter(f'hitter_record/{k}_details.xlsx', engine='xlsxwriter')\n",
    "    for item in v.keys():\n",
    "        # 시트에 팀별로 저장\n",
    "        hitter_dict[k][item].to_excel(writer, sheet_name=item, index=False)\n",
    "    # 파일 저장\n",
    "    writer.save()"
   ]
  },
  {
   "cell_type": "markdown",
   "id": "ea8130c1",
   "metadata": {},
   "source": [
    "## 투수기록\n",
    "스크래핑 방법 변경\n",
    "- 2002년 기준으로 나누어 스크래핑 -> 연도별 데이터프레임 새로 만든 후 전체 스크래핑(make_dataframe 함수 설계)\n",
    "- 전체 스크래핑 후 2002년 이후의 세부기록 추가"
   ]
  },
  {
   "cell_type": "code",
   "execution_count": null,
   "id": "0b23259e",
   "metadata": {},
   "outputs": [],
   "source": [
    "# 투수로 이동\n",
    "go_to_page('#contents > div.sub-content > div.tab-depth2 > ul > li:nth-child(2)')"
   ]
  },
  {
   "cell_type": "markdown",
   "id": "b03b9b28",
   "metadata": {},
   "source": [
    "### 1982~2022 투수기록"
   ]
  },
  {
   "cell_type": "code",
   "execution_count": null,
   "id": "c3176717",
   "metadata": {},
   "outputs": [],
   "source": [
    "df_record = make_dataframe()"
   ]
  },
  {
   "cell_type": "code",
   "execution_count": null,
   "id": "fea3dfc1",
   "metadata": {},
   "outputs": [],
   "source": [
    "years = soup.select('#cphContents_cphContents_cphContents_ddlSeason_ddlSeason > option')\n",
    "pitcher_dict = {}\n",
    "for idx, year in enumerate(years[:-1]):\n",
    "    season = year.text\n",
    "    print(f\"{season}시즌\")  # 스크래핑 완료 확인용\n",
    "    go_to_page(f'#cphContents_cphContents_cphContents_ddlSeason_ddlSeason > option:nth-child({idx+1})')\n",
    "\n",
    "\n",
    "    # 전체 팀에 대해 자료 가져오기(년도별)\n",
    "    team_dict = {}\n",
    "    teams = soup.select('#cphContents_cphContents_cphContents_ddlTeam_ddlTeam > option')\n",
    "    for idx, team in enumerate(teams[1:]):\n",
    "        df_record = make_dataframe()\n",
    "\n",
    "        team_name = team.text\n",
    "        print(idx+1, team_name)  # 스크래핑 완료 확인용\n",
    "        go_to_page(f'#cphContents_cphContents_cphContents_ddlTeam_ddlTeam > option:nth-child({idx+2})')\n",
    "\n",
    "        # 페이지 길이\n",
    "        # 페이지 번호 길이\n",
    "        page_btn = soup.select(\"div.paging > a\")     \n",
    "        page_range = 2 if len(page_btn) == 1 else len(page_btn)-1\n",
    "\n",
    "        for j in range(1, page_range):\n",
    "            # 페이지 이동\n",
    "            go_to_page(f'#cphContents_cphContents_cphContents_ucPager_btnNo{j}')\n",
    "\n",
    "            # 데이터프레임에 선수 정보 한 행씩 추가\n",
    "            players_list = soup.select('#cphContents_cphContents_cphContents_udpContent > div.record_result > table > tbody > tr')\n",
    "            for player in players_list:\n",
    "                player_record = player.text.strip().split('\\n')\n",
    "                df_record.loc[len(df_record)] = player_record\n",
    "\n",
    "        team_dict[team_name] = df_record\n",
    "    pitcher_dict[season] = team_dict\n",
    "    print('='*10)"
   ]
  },
  {
   "cell_type": "code",
   "execution_count": null,
   "id": "8ac20bfe",
   "metadata": {},
   "outputs": [],
   "source": [
    "# 시트에 각각 저장\n",
    "for k, v in pitcher_dict.items():\n",
    "    # 년도별 파일 생성\n",
    "    writer = pd.ExcelWriter(f'pitcher_record/{k}.xlsx', engine='xlsxwriter')\n",
    "    for item in v.keys():\n",
    "        # 시트에 팀별로 저장\n",
    "        pitcher_dict[k][item].to_excel(writer, sheet_name=item, index=False)\n",
    "    # 파일 저장\n",
    "    writer.save()"
   ]
  },
  {
   "cell_type": "markdown",
   "id": "1f2f69c8",
   "metadata": {},
   "source": [
    "### 2002~2022 투수 세부기록"
   ]
  },
  {
   "cell_type": "code",
   "execution_count": null,
   "id": "68655ef7",
   "metadata": {},
   "outputs": [],
   "source": [
    "# 세부기록으로 이동\n",
    "go_to_page('#cphContents_cphContents_cphContents_udpContent > div.row > div.tab-depth3 > ul > li:nth-child(2) > a')"
   ]
  },
  {
   "cell_type": "code",
   "execution_count": null,
   "id": "3f0294d6",
   "metadata": {},
   "outputs": [],
   "source": [
    "df_record = make_dataframe()"
   ]
  },
  {
   "cell_type": "code",
   "execution_count": null,
   "id": "9eccb6cc",
   "metadata": {},
   "outputs": [],
   "source": [
    "years = soup.select('#cphContents_cphContents_cphContents_ddlSeason_ddlSeason > option')\n",
    "pitcher_dict = {}\n",
    "for idx, year in enumerate(years[-21:]):\n",
    "    season = year.text\n",
    "    print(f\"{season}시즌\")  # 스크래핑 완료 확인용\n",
    "    go_to_page(f'#cphContents_cphContents_cphContents_ddlSeason_ddlSeason > option:nth-child({idx+21})')\n",
    "\n",
    "\n",
    "    # 전체 팀에 대해 자료 가져오기(년도별)\n",
    "    team_dict = {}\n",
    "    teams = soup.select('#cphContents_cphContents_cphContents_ddlTeam_ddlTeam > option')\n",
    "    for idx, team in enumerate(teams[1:]):\n",
    "        df_record = make_dataframe()\n",
    "\n",
    "        team_name = team.text\n",
    "        print(idx+1, team_name)  # 스크래핑 완료 확인용\n",
    "        go_to_page(f'#cphContents_cphContents_cphContents_ddlTeam_ddlTeam > option:nth-child({idx+2})')\n",
    "\n",
    "        # 페이지 길이\n",
    "        # 페이지 번호 길이\n",
    "        page_btn = soup.select(\"div.paging > a\")     \n",
    "        page_range = 2 if len(page_btn) == 1 else len(page_btn)-1\n",
    "\n",
    "        for j in range(1, page_range):\n",
    "            # 페이지 이동\n",
    "            go_to_page(f'#cphContents_cphContents_cphContents_ucPager_btnNo{j}')\n",
    "\n",
    "            # 데이터프레임에 선수 정보 한 행씩 추가\n",
    "            players_list = soup.select('#cphContents_cphContents_cphContents_udpContent > div.record_result > table > tbody > tr')\n",
    "            for player in players_list:\n",
    "                player_record = player.text.strip().split('\\n')\n",
    "                df_record.loc[len(df_record)] = player_record\n",
    "\n",
    "        team_dict[team_name] = df_record\n",
    "    pitcher_dict[season] = team_dict\n",
    "    print('='*10)"
   ]
  },
  {
   "cell_type": "code",
   "execution_count": null,
   "id": "2f475d99",
   "metadata": {},
   "outputs": [],
   "source": [
    "# 시트에 각각 저장\n",
    "for k, v in pitcher_dict.items():\n",
    "    # 년도별 파일 생성\n",
    "    writer = pd.ExcelWriter(f'pitcher_record/{k}_details.xlsx', engine='xlsxwriter')\n",
    "    for item in v.keys():\n",
    "        # 시트에 팀별로 저장\n",
    "        pitcher_dict[k][item].to_excel(writer, sheet_name=item, index=False)\n",
    "    # 파일 저장\n",
    "    writer.save()"
   ]
  },
  {
   "cell_type": "markdown",
   "id": "5b27410c",
   "metadata": {},
   "source": [
    "## 수비기록\n",
    "2001년 이전 자료 없음"
   ]
  },
  {
   "cell_type": "code",
   "execution_count": null,
   "id": "db1621d6",
   "metadata": {},
   "outputs": [],
   "source": [
    "# 투수로 이동\n",
    "go_to_page('#contents > div.sub-content > div.tab-depth2 > ul > li:nth-child(3)')"
   ]
  },
  {
   "cell_type": "markdown",
   "id": "fd72efda",
   "metadata": {},
   "source": [
    "### 2001~2022 수비기록"
   ]
  },
  {
   "cell_type": "code",
   "execution_count": null,
   "id": "deccb2e3",
   "metadata": {},
   "outputs": [],
   "source": [
    "df_record = make_dataframe()"
   ]
  },
  {
   "cell_type": "code",
   "execution_count": null,
   "id": "adad9270",
   "metadata": {},
   "outputs": [],
   "source": [
    "years = soup.select('#cphContents_cphContents_cphContents_ddlSeason_ddlSeason > option')\n",
    "defence_dict = {}\n",
    "for idx, year in enumerate(years):\n",
    "    season = year.text\n",
    "    print(f\"{season}시즌\")  # 스크래핑 완료 확인용\n",
    "    go_to_page(f'#cphContents_cphContents_cphContents_ddlSeason_ddlSeason > option:nth-child({idx+1})')\n",
    "\n",
    "\n",
    "    # 전체 팀에 대해 자료 가져오기(년도별)\n",
    "    team_dict = {}\n",
    "    teams = soup.select('#cphContents_cphContents_cphContents_ddlTeam_ddlTeam > option')\n",
    "    for idx, team in enumerate(teams[1:]):\n",
    "        df_record = make_dataframe()\n",
    "\n",
    "        team_name = team.text\n",
    "        print(idx+1, team_name)  # 스크래핑 완료 확인용\n",
    "        go_to_page(f'#cphContents_cphContents_cphContents_ddlTeam_ddlTeam > option:nth-child({idx+2})')\n",
    "\n",
    "        # 페이지 길이\n",
    "        # 페이지 번호 길이\n",
    "        page_btn = soup.select(\"div.paging > a\")     \n",
    "        page_range = 2 if len(page_btn) == 1 else len(page_btn)-1\n",
    "\n",
    "        for j in range(1, page_range):\n",
    "            # 페이지 이동\n",
    "            go_to_page(f'#cphContents_cphContents_cphContents_ucPager_btnNo{j}')\n",
    "\n",
    "            # 데이터프레임에 선수 정보 한 행씩 추가\n",
    "            players_list = soup.select('#cphContents_cphContents_cphContents_udpContent > div.record_result > table > tbody > tr')\n",
    "            for player in players_list:\n",
    "                player_record = player.text.strip().split('\\n')\n",
    "                df_record.loc[len(df_record)] = player_record\n",
    "\n",
    "        team_dict[team_name] = df_record\n",
    "    defence_dict[season] = team_dict\n",
    "    print('='*10)"
   ]
  },
  {
   "cell_type": "code",
   "execution_count": null,
   "id": "c38ce08d",
   "metadata": {},
   "outputs": [],
   "source": [
    "# 시트에 각각 저장\n",
    "for k, v in defence_dict.items():\n",
    "    # 년도별 파일 생성\n",
    "    writer = pd.ExcelWriter(f'defence_record/{k}.xlsx', engine='xlsxwriter')\n",
    "    for item in v.keys():\n",
    "        # 시트에 팀별로 저장\n",
    "        defence_dict[k][item].to_excel(writer, sheet_name=item, index=False)\n",
    "    # 파일 저장\n",
    "    writer.save()"
   ]
  },
  {
   "cell_type": "markdown",
   "id": "d2221d24",
   "metadata": {},
   "source": [
    "## 주루기록\n",
    "2001년 이전 자료 없음"
   ]
  },
  {
   "cell_type": "markdown",
   "id": "1dfe8bff",
   "metadata": {},
   "source": [
    "### 2001~2022 주루기록"
   ]
  },
  {
   "cell_type": "code",
   "execution_count": null,
   "id": "8bde896f",
   "metadata": {},
   "outputs": [],
   "source": [
    "df_record = make_dataframe()"
   ]
  },
  {
   "cell_type": "code",
   "execution_count": null,
   "id": "d77c7d8a",
   "metadata": {},
   "outputs": [],
   "source": [
    "years = soup.select('#cphContents_cphContents_cphContents_ddlSeason_ddlSeason > option')\n",
    "run_dict = {}\n",
    "for idx, year in enumerate(years):\n",
    "    season = year.text\n",
    "    print(f\"{season}시즌\")  # 스크래핑 완료 확인용\n",
    "    go_to_page(f'#cphContents_cphContents_cphContents_ddlSeason_ddlSeason > option:nth-child({idx+1})')\n",
    "\n",
    "\n",
    "    # 전체 팀에 대해 자료 가져오기(년도별)\n",
    "    team_dict = {}\n",
    "    teams = soup.select('#cphContents_cphContents_cphContents_ddlTeam_ddlTeam > option')\n",
    "    for idx, team in enumerate(teams[1:]):\n",
    "        df_record = make_dataframe()\n",
    "\n",
    "        team_name = team.text\n",
    "        print(idx+1, team_name)  # 스크래핑 완료 확인용\n",
    "        go_to_page(f'#cphContents_cphContents_cphContents_ddlTeam_ddlTeam > option:nth-child({idx+2})')\n",
    "\n",
    "        # 페이지 길이\n",
    "        # 페이지 번호 길이\n",
    "        page_btn = soup.select(\"div.paging > a\")     \n",
    "        page_range = 2 if len(page_btn) == 1 else len(page_btn)-1\n",
    "\n",
    "        for j in range(1, page_range):\n",
    "            # 페이지 이동\n",
    "            go_to_page(f'#cphContents_cphContents_cphContents_ucPager_btnNo{j}')\n",
    "\n",
    "            # 데이터프레임에 선수 정보 한 행씩 추가\n",
    "            players_list = soup.select('#cphContents_cphContents_cphContents_udpContent > div.record_result > table > tbody > tr')\n",
    "            for player in players_list:\n",
    "                player_record = player.text.strip().split('\\n')\n",
    "                df_record.loc[len(df_record)] = player_record\n",
    "\n",
    "        team_dict[team_name] = df_record\n",
    "    run_dict[season] = team_dict\n",
    "    print('='*10)"
   ]
  },
  {
   "cell_type": "code",
   "execution_count": null,
   "id": "d8f4a30b",
   "metadata": {},
   "outputs": [],
   "source": [
    "# 시트에 각각 저장\n",
    "for k, v in run_dict.items():\n",
    "    # 년도별 파일 생성\n",
    "    writer = pd.ExcelWriter(f'run_record/{k}.xlsx', engine='xlsxwriter')\n",
    "    for item in v.keys():\n",
    "        # 시트에 팀별로 저장\n",
    "        run_dict[k][item].to_excel(writer, sheet_name=item, index=False)\n",
    "    # 파일 저장\n",
    "    writer.save()"
   ]
  },
  {
   "cell_type": "markdown",
   "id": "2776424c",
   "metadata": {},
   "source": [
    "## 데이터정리\n",
    "부문별 구별되어 있는 데이터를 연도별로 나누어 팀별로 구분"
   ]
  },
  {
   "cell_type": "code",
   "execution_count": null,
   "id": "5989ece3",
   "metadata": {},
   "outputs": [],
   "source": [
    "# 폴더 생성\n",
    "os.mkdir('by_year')\n",
    "for i in range(1982, 2023):\n",
    "    os.mkdir(f'by_year/{i}')"
   ]
  },
  {
   "cell_type": "code",
   "execution_count": null,
   "id": "234a5c57",
   "metadata": {},
   "outputs": [],
   "source": [
    "record_files = ['hitter_record', 'pitcher_record', 'defence_record', 'run_record']"
   ]
  },
  {
   "cell_type": "code",
   "execution_count": null,
   "id": "f966d142",
   "metadata": {},
   "outputs": [],
   "source": [
    "for file in record_files:\n",
    "    s = ' '.join(os.listdir(f'{file}'))\n",
    "    pat = re.compile('(\\d{4})[.]xlsx')\n",
    "    years = pat.findall(s)\n",
    "    for year in years:\n",
    "        df_record = pd.ExcelFile(f'{file}/{year}.xlsx')\n",
    "        record_sheets = df_record.sheet_names\n",
    "        \n",
    "        for item in record_sheets:\n",
    "            if os.path.exists(f'by_year/{year}/{item.strip()}.xlsx'):\n",
    "                writer = pd.ExcelWriter(f'by_year/{year}/{item.strip()}.xlsx', mode='a', engine='openpyxl')\n",
    "            else:\n",
    "                writer = pd.ExcelWriter(f'by_year/{year}/{item.strip()}.xlsx', engine='xlsxwriter')\n",
    "                \n",
    "            df_record.parse(item).to_excel(writer, sheet_name=file, index=False)\n",
    "            writer.save()\n",
    "            \n",
    "writer.close()"
   ]
  },
  {
   "cell_type": "code",
   "execution_count": 2,
   "id": "cce478fd",
   "metadata": {},
   "outputs": [],
   "source": [
    "# 세부기록 추가\n",
    "# '연도'_details.xlsx 파일로 저장"
   ]
  },
  {
   "cell_type": "code",
   "execution_count": null,
   "id": "c6ac93f9",
   "metadata": {},
   "outputs": [],
   "source": [
    "for file in record_files[:2]:\n",
    "    s = ' '.join(os.listdir(f'{file}'))\n",
    "    pat = re.compile('(\\d{4})_details[.]xlsx')\n",
    "    years = pat.findall(s)\n",
    "    for year in years:\n",
    "        df_record = pd.ExcelFile(f'{file}/{year}.xlsx')\n",
    "        record_sheets = df_record.sheet_names\n",
    "        \n",
    "        for item in record_sheets:\n",
    "            writer = pd.ExcelWriter(f'by_year/{year}/{item.strip()}.xlsx', mode='a', engine='openpyxl')\n",
    "            df_record.parse(item).to_excel(writer, sheet_name=f'{file}_details', index=False)\n",
    "            writer.save()\n",
    "            \n",
    "writer.close()"
   ]
  },
  {
   "cell_type": "code",
   "execution_count": null,
   "id": "021cfa8d",
   "metadata": {},
   "outputs": [],
   "source": []
  },
  {
   "cell_type": "code",
   "execution_count": null,
   "id": "24d1998b",
   "metadata": {},
   "outputs": [],
   "source": []
  },
  {
   "cell_type": "markdown",
   "id": "0d78a6d3",
   "metadata": {},
   "source": [
    "## 연도별 구단확인"
   ]
  },
  {
   "cell_type": "code",
   "execution_count": null,
   "id": "c99e33e1",
   "metadata": {},
   "outputs": [],
   "source": [
    "# 팀 리스트 출력 함수\n",
    "# 연도별로 저장한 \n",
    "def team_list(season):\n",
    "    team_name = []\n",
    "    for item in os.listdir(f'by_year/{season}'):\n",
    "        team_name.append(re.sub('(.+?)[.]xlsx', '\\g<1>', item))\n",
    "        \n",
    "    return team_name"
   ]
  },
  {
   "cell_type": "code",
   "execution_count": null,
   "id": "33cb4ba5",
   "metadata": {},
   "outputs": [],
   "source": [
    "# 전년도와 비교해서 팀구성이 달라진 연도 저장\n",
    "change_list = []\n",
    "for i in range(1983, 2023):\n",
    "    if team_list(i) != show_team_list(i-1):\n",
    "        change_list.append(i)"
   ]
  },
  {
   "cell_type": "code",
   "execution_count": null,
   "id": "a24d1b6d",
   "metadata": {},
   "outputs": [],
   "source": [
    "# 확인\n",
    "print(f'1982 ~ : {team_list(1982)}')\n",
    "for season in change_list:\n",
    "    print(f'{season} ~ : {team_list(season)}')"
   ]
  },
  {
   "cell_type": "markdown",
   "id": "48d74d0d",
   "metadata": {},
   "source": [
    "### 연도별 순위확인 - 포스트시즌"
   ]
  },
  {
   "cell_type": "code",
   "execution_count": null,
   "id": "e19b8a33",
   "metadata": {},
   "outputs": [],
   "source": [
    "# 구단 변천사 확인\n",
    "# https://www.koreabaseball.com/History/Etc/TeamHistory.aspx\n",
    "# https://namu.wiki/w/KBO%20%ED%8F%AC%EC%8A%A4%ED%8A%B8%EC%8B%9C%EC%A6%8C 포스트시즌\n",
    "# https://ko.wikipedia.org/wiki/KBO_%EB%A6%AC%EA%B7%B8_%EC%97%B0%EB%8F%84%EB%B3%84_%ED%8C%80_%EC%88%9C%EC%9C%84"
   ]
  },
  {
   "cell_type": "code",
   "execution_count": null,
   "id": "c5e93f14",
   "metadata": {},
   "outputs": [],
   "source": [
    "import urllib.request\n",
    "from urllib.request import Request, urlopen  # HTTPError: HTTP Error 403: Forbidden 에러발생"
   ]
  },
  {
   "cell_type": "code",
   "execution_count": null,
   "id": "84ee819b",
   "metadata": {},
   "outputs": [],
   "source": [
    "# 포스트시즌 기록\n",
    "url = 'https://namu.wiki/w/KBO%20%ED%8F%AC%EC%8A%A4%ED%8A%B8%EC%8B%9C%EC%A6%8C'\n",
    "req = Request(url, headers={'User-Agent': 'Mozilla/5.0'})\n",
    "data = urlopen(req).read()\n",
    "soup = BeautifulSoup(data, 'html.parser')"
   ]
  },
  {
   "cell_type": "code",
   "execution_count": null,
   "id": "9a850c87",
   "metadata": {},
   "outputs": [],
   "source": [
    "table = soup.select('#jWZtJ8Cjb > div.aa7ee88d > div > div > div > div > div > div > div > div > div > div.aCNBxUDm > div:nth-child(7) > div > div > div > div > div > div > div > div > div:nth-child(6) > div > div:nth-child(13) > div > div > div > div > div > div > div > div:nth-child(1) > div > div:nth-child(21) > div.rYXEqDWZ > table > tbody')[0]"
   ]
  },
  {
   "cell_type": "code",
   "execution_count": null,
   "id": "855bc407",
   "metadata": {},
   "outputs": [],
   "source": [
    "cols = []\n",
    "for i in range(6):\n",
    "    cols.append(table.select('.upwzFoAB')[i].text)\n",
    "post_season = pd.DataFrame(columns=cols)"
   ]
  },
  {
   "cell_type": "code",
   "execution_count": null,
   "id": "fd0347ee",
   "metadata": {},
   "outputs": [],
   "source": [
    "for i in range(1, 41):\n",
    "    elements = []\n",
    "    for j in range(i*6, (i+1)*6):\n",
    "        elements.append(table.select('.upwzFoAB')[j].text)\n",
    "    post_season.loc[i-1] = elements"
   ]
  },
  {
   "cell_type": "code",
   "execution_count": null,
   "id": "f21d8e8f",
   "metadata": {},
   "outputs": [],
   "source": [
    "# 연도 인덱스 설정 후 엑셀 파일로 저장\n",
    "post_season = post_season.set_index('연도')\n",
    "post_season.to_excel('post_season.xlsx')"
   ]
  },
  {
   "cell_type": "markdown",
   "id": "9c691702",
   "metadata": {},
   "source": [
    "### 연도별 순위확인 - 정규시즌"
   ]
  },
  {
   "cell_type": "code",
   "execution_count": null,
   "id": "b4a65299",
   "metadata": {},
   "outputs": [],
   "source": [
    "url = 'https://www.koreabaseball.com/TeamRank/TeamRank.aspx'\n",
    "data = urllib.request.urlopen(url)\n",
    "soup = BeautifulSoup(data, 'html.parser')"
   ]
  },
  {
   "cell_type": "code",
   "execution_count": null,
   "id": "de304b7b",
   "metadata": {},
   "outputs": [],
   "source": [
    "url = \"https://www.koreabaseball.com/TeamRank/TeamRank.aspx\"\n",
    "driver.get(url)"
   ]
  },
  {
   "cell_type": "code",
   "execution_count": null,
   "id": "02054761",
   "metadata": {},
   "outputs": [],
   "source": [
    "cols = ['연도', '1위', '2위', '3위', '4위', '5위', '6위', '7위', '8위', '9위', '10위']\n",
    "regular_season = pd.DataFrame(columns=cols)"
   ]
  },
  {
   "cell_type": "code",
   "execution_count": null,
   "id": "15c8f896",
   "metadata": {},
   "outputs": [],
   "source": [
    "for i in reversed(range(1, 42)):\n",
    "    go_to_page(f'#cphContents_cphContents_cphContents_ddlYear > option:nth-child({i})')\n",
    "    \n",
    "    rank_list = soup.select('#cphContents_cphContents_cphContents_udpRecord > table > tbody > tr')\n",
    "    ranking = [soup.select(f'#cphContents_cphContents_cphContents_ddlYear > option:nth-child({i})')[0].text]\n",
    "    for rank in rank_list:\n",
    "        ranking.append(rank.select('td')[1].text)\n",
    "    while len(ranking) != 11:\n",
    "        ranking.append('-')\n",
    "    regular_season.loc[i-1] = ranking"
   ]
  },
  {
   "cell_type": "code",
   "execution_count": null,
   "id": "0dfffb09",
   "metadata": {},
   "outputs": [],
   "source": [
    "regular_season = regular_season.set_index('연도')"
   ]
  },
  {
   "cell_type": "code",
   "execution_count": null,
   "id": "d81029d3",
   "metadata": {},
   "outputs": [],
   "source": [
    "regular_season.loc['2000'] = ['현대', '두산', '삼성', 'LG', '롯데', '해태', '한화', 'SK', '-', '-']\n",
    "regular_season.loc['1999'] = ['두산', '롯데', '삼성', '한화', '현대', 'LG', '해태', '쌍방울', '-', '-']"
   ]
  },
  {
   "cell_type": "code",
   "execution_count": null,
   "id": "8ec47de1",
   "metadata": {},
   "outputs": [],
   "source": [
    "regular_season.to_excel('regular_season.xlsx')"
   ]
  },
  {
   "cell_type": "markdown",
   "id": "9c83824f",
   "metadata": {},
   "source": [
    "### 포스트시즌 전 순위"
   ]
  },
  {
   "cell_type": "code",
   "execution_count": null,
   "id": "36eaae8b",
   "metadata": {},
   "outputs": [],
   "source": [
    "before_post_season = regular_season"
   ]
  },
  {
   "cell_type": "code",
   "execution_count": null,
   "id": "bf2a0d39",
   "metadata": {},
   "outputs": [],
   "source": [
    "indexs = post_season.index\n",
    "pat = re.compile('\\((\\d위)\\)')"
   ]
  },
  {
   "cell_type": "code",
   "execution_count": null,
   "id": "f76a4c76",
   "metadata": {},
   "outputs": [],
   "source": [
    "for i in indexs[19:]:\n",
    "    for v in post_season.loc[i].values:\n",
    "        if len(v):\n",
    "            before_post_season[pat.findall(v)[0]][i] = v.split()[0].upper()"
   ]
  },
  {
   "cell_type": "code",
   "execution_count": null,
   "id": "8b469202",
   "metadata": {},
   "outputs": [],
   "source": [
    "before_post_season['6위']['2009'] = '넥센'"
   ]
  },
  {
   "cell_type": "code",
   "execution_count": null,
   "id": "38d10411",
   "metadata": {},
   "outputs": [],
   "source": [
    "before_post_season.to_excel('before_post_season.xlsx')"
   ]
  },
  {
   "cell_type": "markdown",
   "id": "37f9712d",
   "metadata": {},
   "source": [
    "### 팀별순위"
   ]
  },
  {
   "cell_type": "code",
   "execution_count": null,
   "id": "1e39aec1",
   "metadata": {},
   "outputs": [],
   "source": [
    "url = \"https://www.koreabaseball.com/History/Etc/TeamHistory.aspx\"\n",
    "driver.get(url)"
   ]
  },
  {
   "cell_type": "code",
   "execution_count": null,
   "id": "753ac522",
   "metadata": {},
   "outputs": [],
   "source": [
    "soup = BeautifulSoup(driver.page_source, 'html.parser')"
   ]
  },
  {
   "cell_type": "code",
   "execution_count": null,
   "id": "3b710832",
   "metadata": {},
   "outputs": [],
   "source": [
    "rows = soup.select('#change > table > tbody > tr')"
   ]
  },
  {
   "cell_type": "code",
   "execution_count": null,
   "id": "c1544e40",
   "metadata": {},
   "outputs": [],
   "source": [
    "team_ranking_list = []"
   ]
  },
  {
   "cell_type": "code",
   "execution_count": null,
   "id": "1bddb0cc",
   "metadata": {},
   "outputs": [],
   "source": [
    "for i in range(12):\n",
    "    tmp = []\n",
    "    for row in rows:\n",
    "        tmp.append(row.select('td')[i].text.strip())\n",
    "    team_ranking_list.append(tmp)"
   ]
  },
  {
   "cell_type": "code",
   "execution_count": null,
   "id": "0af558ad",
   "metadata": {},
   "outputs": [],
   "source": [
    "team_ranking_list"
   ]
  },
  {
   "cell_type": "code",
   "execution_count": null,
   "id": "95e08dd6",
   "metadata": {},
   "outputs": [],
   "source": [
    "pat = re.compile('(.+?)\\\\n창단일')\n",
    "name_change = []\n",
    "for i in range(len(team_ranking_list)):\n",
    "    tmp = []\n",
    "    for item in team_ranking_list[i]:\n",
    "        if pat.findall(item):\n",
    "            tmp.append(pat.findall(item)[0])\n",
    "    name_change.append(tmp)"
   ]
  },
  {
   "cell_type": "code",
   "execution_count": null,
   "id": "86bfc4c0",
   "metadata": {},
   "outputs": [],
   "source": [
    "name_change"
   ]
  },
  {
   "cell_type": "code",
   "execution_count": null,
   "id": "060b7389",
   "metadata": {},
   "outputs": [],
   "source": [
    "pat = re.compile('(\\d+)\\D')\n",
    "for i in range(12):\n",
    "    for j in range(40):\n",
    "        rank = pat.findall(team_ranking_list[i][j])\n",
    "        if rank:\n",
    "            team_ranking_list[i][j] = pat.findall(team_ranking_list[i][j])[0]\n",
    "            if len(team_ranking_list[i][j]) > 2:\n",
    "                team_ranking_list[i][j] = ''"
   ]
  },
  {
   "cell_type": "code",
   "execution_count": null,
   "id": "3461b257",
   "metadata": {},
   "outputs": [],
   "source": [
    "team_ranking_list"
   ]
  },
  {
   "cell_type": "code",
   "execution_count": null,
   "id": "b4d09e41",
   "metadata": {},
   "outputs": [],
   "source": [
    "years = [x.select('th')[0].text for x in rows]"
   ]
  },
  {
   "cell_type": "code",
   "execution_count": null,
   "id": "afbbb188",
   "metadata": {},
   "outputs": [],
   "source": [
    "df = pd.DataFrame(team_ranking_list).T\n",
    "df.columns = [x[-1] for x in name_change]\n",
    "df.index = [x for x in range(1982, 2022)]\n",
    "df.index.name = '연도'"
   ]
  },
  {
   "cell_type": "code",
   "execution_count": null,
   "id": "d3f4481d",
   "metadata": {},
   "outputs": [],
   "source": [
    "df.columns = ['삼성', 'KIA', '롯데', '현대', 'LG', '두산', '한화', '쌍방울', 'SSG', '키움', 'NC', 'KT']\n",
    "df"
   ]
  },
  {
   "cell_type": "code",
   "execution_count": null,
   "id": "54610b65",
   "metadata": {},
   "outputs": [],
   "source": [
    "df.apply(pd.to_numeric)\n",
    "df"
   ]
  },
  {
   "cell_type": "code",
   "execution_count": null,
   "id": "6b82ff31",
   "metadata": {},
   "outputs": [],
   "source": [
    "df.to_excel('team_ranking.xlsx')"
   ]
  },
  {
   "cell_type": "code",
   "execution_count": null,
   "id": "5731badf",
   "metadata": {},
   "outputs": [],
   "source": []
  },
  {
   "cell_type": "code",
   "execution_count": null,
   "id": "6f2eb346",
   "metadata": {},
   "outputs": [],
   "source": []
  },
  {
   "cell_type": "code",
   "execution_count": null,
   "id": "18fb53cb",
   "metadata": {},
   "outputs": [],
   "source": []
  },
  {
   "cell_type": "code",
   "execution_count": null,
   "id": "7c812666",
   "metadata": {},
   "outputs": [],
   "source": []
  },
  {
   "cell_type": "code",
   "execution_count": null,
   "id": "8bb40811",
   "metadata": {},
   "outputs": [],
   "source": []
  },
  {
   "cell_type": "code",
   "execution_count": null,
   "id": "073d1119",
   "metadata": {},
   "outputs": [],
   "source": []
  },
  {
   "cell_type": "code",
   "execution_count": null,
   "id": "5addc4e8",
   "metadata": {},
   "outputs": [],
   "source": []
  },
  {
   "cell_type": "code",
   "execution_count": null,
   "id": "9903c30a",
   "metadata": {},
   "outputs": [],
   "source": []
  },
  {
   "cell_type": "code",
   "execution_count": null,
   "id": "39758981",
   "metadata": {},
   "outputs": [],
   "source": []
  },
  {
   "cell_type": "code",
   "execution_count": null,
   "id": "561cd0dc",
   "metadata": {},
   "outputs": [],
   "source": []
  },
  {
   "cell_type": "code",
   "execution_count": null,
   "id": "866642d2",
   "metadata": {},
   "outputs": [],
   "source": []
  },
  {
   "cell_type": "code",
   "execution_count": null,
   "id": "bff0d246",
   "metadata": {},
   "outputs": [],
   "source": []
  },
  {
   "cell_type": "code",
   "execution_count": null,
   "id": "d40666da",
   "metadata": {},
   "outputs": [],
   "source": []
  },
  {
   "cell_type": "code",
   "execution_count": null,
   "id": "4b113f5f",
   "metadata": {},
   "outputs": [],
   "source": []
  }
 ],
 "metadata": {
  "kernelspec": {
   "display_name": "Python 3 (ipykernel)",
   "language": "python",
   "name": "python3"
  },
  "language_info": {
   "codemirror_mode": {
    "name": "ipython",
    "version": 3
   },
   "file_extension": ".py",
   "mimetype": "text/x-python",
   "name": "python",
   "nbconvert_exporter": "python",
   "pygments_lexer": "ipython3",
   "version": "3.8.13"
  },
  "toc": {
   "base_numbering": 1,
   "nav_menu": {},
   "number_sections": false,
   "sideBar": true,
   "skip_h1_title": false,
   "title_cell": "Table of Contents",
   "title_sidebar": "Contents",
   "toc_cell": false,
   "toc_position": {
    "height": "calc(100% - 180px)",
    "left": "10px",
    "top": "150px",
    "width": "233.489px"
   },
   "toc_section_display": true,
   "toc_window_display": false
  }
 },
 "nbformat": 4,
 "nbformat_minor": 5
}
