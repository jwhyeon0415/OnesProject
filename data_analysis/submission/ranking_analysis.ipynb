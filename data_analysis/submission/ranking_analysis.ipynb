{
 "cells": [
  {
   "cell_type": "markdown",
   "id": "879c9ef6",
   "metadata": {},
   "source": [
    "# 임포트"
   ]
  },
  {
   "cell_type": "code",
   "execution_count": null,
   "id": "07476529",
   "metadata": {},
   "outputs": [],
   "source": [
    "import pandas as pd\n",
    "import numpy as np\n",
    "import os"
   ]
  },
  {
   "cell_type": "code",
   "execution_count": null,
   "id": "bfd6ac35",
   "metadata": {},
   "outputs": [],
   "source": [
    "import matplotlib.pyplot as plt"
   ]
  },
  {
   "cell_type": "code",
   "execution_count": null,
   "id": "dacfa370",
   "metadata": {},
   "outputs": [],
   "source": [
    "import matplotlib\n",
    "from matplotlib import font_manager,rc  # 한글 폰트 입력을 위한 라이브러리"
   ]
  },
  {
   "cell_type": "code",
   "execution_count": null,
   "id": "807ae1a0",
   "metadata": {},
   "outputs": [],
   "source": [
    "#폰트 경로 가져오기\n",
    "font_path = 'C:/Windows/Fonts/gulim.ttc'\n",
    " \n",
    "#폰트 이름 얻어오기\n",
    "font_name = font_manager.FontProperties(fname=font_path).get_name()\n",
    " \n",
    "#폰트 설정하기\n",
    "matplotlib.rc('font',family=font_name)"
   ]
  },
  {
   "cell_type": "markdown",
   "id": "e9b8fac0",
   "metadata": {},
   "source": [
    "# 데이터확인"
   ]
  },
  {
   "cell_type": "code",
   "execution_count": null,
   "id": "7c8e7209",
   "metadata": {},
   "outputs": [],
   "source": [
    "# 팀별 순위 파일 불러오기\n",
    "df = pd.read_excel('team_ranking.xlsx')"
   ]
  },
  {
   "cell_type": "code",
   "execution_count": null,
   "id": "b0ba7c52",
   "metadata": {},
   "outputs": [],
   "source": [
    "name_change = [['삼성'],\n",
    "               ['해태', 'KIA'],\n",
    "               ['롯데'],\n",
    "               ['삼미', '청보', '태평양', '현대'],\n",
    "               ['MBC', 'LG'],\n",
    "               ['OB', '두산'],\n",
    "               ['빙그레', '한화'],\n",
    "               ['쌍방울'],\n",
    "               ['SK', 'SSG'],\n",
    "               ['키움'],\n",
    "               ['NC'],\n",
    "               ['KT']]"
   ]
  },
  {
   "cell_type": "code",
   "execution_count": null,
   "id": "60ee0459",
   "metadata": {},
   "outputs": [],
   "source": [
    "season = os.listdir('by_year')"
   ]
  },
  {
   "cell_type": "code",
   "execution_count": null,
   "id": "d31dfc02",
   "metadata": {},
   "outputs": [],
   "source": [
    "df_list = []\n",
    "for i in range(1982, 2022):\n",
    "    if '두산.xlsx' in os.listdir(f'by_year/{i}'):\n",
    "        df_list.append(pd.read_excel(f'by_year/{i}/두산.xlsx', sheet_name='hitter_record'))\n",
    "    else:\n",
    "        df_list.append(pd.read_excel( f'by_year/{i}/OB.xlsx', sheet_name='hitter_record'))"
   ]
  },
  {
   "cell_type": "code",
   "execution_count": null,
   "id": "f09297de",
   "metadata": {},
   "outputs": [],
   "source": [
    "for item in name_change:\n",
    "    for i in range(len(item)):\n",
    "        if f'{item[-1]}.xlsx' in os.listdir(f'by_year/{i}'):\n",
    "            df_list.append(pd.read_excel(f'by_year/{i}/두산.xlsx', sheet_name='hitter_record'))\n",
    "        else:\n",
    "            df_list.append(pd.read_excel( f'by_year/{i}/OB.xlsx', sheet_name='hitter_record'))\n",
    "        "
   ]
  },
  {
   "cell_type": "code",
   "execution_count": null,
   "id": "eb4af0e6",
   "metadata": {},
   "outputs": [],
   "source": [
    "df"
   ]
  },
  {
   "cell_type": "markdown",
   "id": "fb5d3810",
   "metadata": {},
   "source": [
    "# 분석"
   ]
  },
  {
   "cell_type": "markdown",
   "id": "a072d019",
   "metadata": {},
   "source": [
    "## 팀별 순위, 평균타율"
   ]
  },
  {
   "cell_type": "code",
   "execution_count": null,
   "id": "8413e31d",
   "metadata": {},
   "outputs": [],
   "source": [
    "name_change"
   ]
  },
  {
   "cell_type": "code",
   "execution_count": null,
   "id": "70392c2d",
   "metadata": {},
   "outputs": [],
   "source": [
    "def rank_hit(team):\n",
    "    for name in name_change:\n",
    "        if team in name:\n",
    "            name_list = name\n",
    "        \n",
    "    df_list = []\n",
    "    cnt = 0\n",
    "    for i in range(1982, 2022):\n",
    "        if all(f'{n}.xlsx' not in os.listdir(f'by_year/{i}') for n in name_list):\n",
    "            cnt += 1\n",
    "        else:\n",
    "            for n in name_list:\n",
    "                if f'{n}.xlsx' in os.listdir(f'by_year/{i}'):\n",
    "                    df_list.append(pd.read_excel(f'by_year/{i}/{n}.xlsx', sheet_name='hitter_record'))\n",
    "            \n",
    "    \n",
    "    avg_mean = [None] * cnt\n",
    "    for i in range(len(df_list)):\n",
    "        main = df_list[i].nlargest(10, 'G')\n",
    "        main['AVG'] = pd.to_numeric(main['AVG'], downcast=\"float\")\n",
    "        avg_mean.append(main['AVG'].mean())\n",
    "    \n",
    "    avg_df = pd.DataFrame(columns=['연도', '평타'])\n",
    "    years = [x for x in range(1982, 2022)]\n",
    "    for i in range(len(avg_mean)):\n",
    "        avg_df.loc[i] = [years[i], avg_mean[i]]\n",
    "        \n",
    "    # 그래프 그리기\n",
    "    fig, ax1 = plt.subplots(figsize=(20,5))\n",
    "    ax1.set_xlabel('연도')\n",
    "    ax1.set_ylabel('순위')\n",
    "    plt.gca().invert_yaxis()\n",
    "    line1 = ax1.plot(df['연도'], df[name_list[-1]], color='blue', alpha=0.5, linewidth=2, label='순위')\n",
    "\n",
    "    ax2 = ax1.twinx()\n",
    "    ax2.set_ylabel('팀 평균타율')\n",
    "    line2 = ax2.plot(avg_df['연도'], avg_df['평타'], color='red', alpha=0.5, linewidth=2, label='팀 평균타율')\n",
    "\n",
    "    lines = line1 + line2\n",
    "    labels = [l.get_label() for l in lines]\n",
    "    ax1.legend(lines, labels, loc='upper right')\n",
    "    plt.show()"
   ]
  },
  {
   "cell_type": "code",
   "execution_count": null,
   "id": "6a137669",
   "metadata": {},
   "outputs": [],
   "source": [
    "for name in name_change[1:]:\n",
    "    name_list = name\n",
    "        \n",
    "    df_list = []\n",
    "    cnt = 0\n",
    "    for i in range(1982, 2022):\n",
    "        if all(f'{n}.xlsx' not in os.listdir(f'by_year/{i}') for n in name_list):\n",
    "            cnt += 1\n",
    "        else:\n",
    "            for n in name_list:\n",
    "                if f'{n}.xlsx' in os.listdir(f'by_year/{i}'):\n",
    "                    df_list.append(pd.read_excel(f'by_year/{i}/{n}.xlsx', sheet_name='hitter_record'))\n",
    "            \n",
    "    avg_mean = [None] * cnt\n",
    "    for i in range(len(df_list)):\n",
    "        main = df_list[i].nlargest(10, 'G')\n",
    "        main['AVG'] = pd.to_numeric(main['AVG'], downcast=\"float\")\n",
    "        avg_mean.append(main['AVG'].mean())\n",
    "    \n",
    "    avg_df = pd.DataFrame(columns=['연도', '평타'])\n",
    "    years = [x for x in range(1982, 2022)]\n",
    "    for i in range(len(avg_mean)):\n",
    "        avg_df.loc[i] = [years[i], avg_mean[i]]\n",
    "\n",
    "    avg_df_list.append(avg_df)"
   ]
  },
  {
   "cell_type": "code",
   "execution_count": null,
   "id": "61632b0a",
   "metadata": {},
   "outputs": [],
   "source": [
    "fig, axes = plt.subplots(5, 2, figsize=(20,20))\n",
    "for i, n in zip(range(len(avg_df_list)), name_change[1:]):\n",
    "    axes[i//2, i%2].set_xlabel('연도')\n",
    "    axes[i//2, i%2].set_ylabel('순위')\n",
    "    plt.gca().invert_yaxis()\n",
    "    line1 = axes[i//2, i%2].plot(df['연도'], df[n[-1]], color='blue', alpha=0.5, linewidth=2, label='순위')\n",
    "\n",
    "    ax_2 = axes[i//2, i%2].twinx()\n",
    "    ax_2.set_ylabel('팀 평균타율')\n",
    "    line2 = ax_2.plot(avg_df_list[i]['연도'], avg_df_list[i]['평타'], color='red', alpha=0.5, linewidth=2, label='팀 평균타율')\n",
    "\n",
    "    lines = line1 + line2\n",
    "    labels = [l.get_label() for l in lines]\n",
    "    axes[i//2, i%2].legend(lines, labels, loc='upper right')\n",
    "plt.show()\n",
    "\n"
   ]
  },
  {
   "cell_type": "code",
   "execution_count": null,
   "id": "6e64e7e6",
   "metadata": {},
   "outputs": [],
   "source": [
    "# 그래프 그리기\n",
    "fig, ax1 = plt.subplots(10, figsize=(20,5))\n",
    "ax1.set_xlabel('연도')\n",
    "ax1.set_ylabel('순위')\n",
    "plt.gca().invert_yaxis()\n",
    "line1 = ax1.plot(df['연도'], df[name_list[-1]], color='blue', alpha=0.5, linewidth=2, label='순위')\n",
    "\n",
    "ax2 = ax1.twinx()\n",
    "ax2.set_ylabel('팀 평균타율')\n",
    "line2 = ax2.plot(avg_df['연도'], avg_df['평타'], color='red', alpha=0.5, linewidth=2, label='팀 평균타율')\n",
    "\n",
    "lines = line1 + line2\n",
    "labels = [l.get_label() for l in lines]\n",
    "ax1.legend(lines, labels, loc='upper right')\n",
    "plt.show()"
   ]
  },
  {
   "cell_type": "code",
   "execution_count": null,
   "id": "1881cf54",
   "metadata": {},
   "outputs": [],
   "source": [
    "rank_hit('한화')"
   ]
  },
  {
   "cell_type": "code",
   "execution_count": null,
   "id": "6f4d9746",
   "metadata": {},
   "outputs": [],
   "source": [
    "rank_hit('KIA')"
   ]
  },
  {
   "cell_type": "code",
   "execution_count": null,
   "id": "1423054e",
   "metadata": {},
   "outputs": [],
   "source": [
    "rank_hit('삼성')"
   ]
  },
  {
   "cell_type": "code",
   "execution_count": null,
   "id": "084d6976",
   "metadata": {},
   "outputs": [],
   "source": [
    "teams = [x[-1] for x in name_change]\n",
    "teams"
   ]
  },
  {
   "cell_type": "code",
   "execution_count": null,
   "id": "40aa52e6",
   "metadata": {},
   "outputs": [],
   "source": []
  },
  {
   "cell_type": "code",
   "execution_count": null,
   "id": "407bdd8f",
   "metadata": {},
   "outputs": [],
   "source": [
    "plt.figure(figsize=(25,5))            \n",
    "plt.plot(df['연도'], df['두산'])\n",
    "plt.gca().invert_yaxis()\n",
    "print(plt.show())"
   ]
  },
  {
   "cell_type": "code",
   "execution_count": null,
   "id": "925e240c",
   "metadata": {},
   "outputs": [],
   "source": [
    "df_list = []\n",
    "cnt = 0\n",
    "for i in range(1982, 2022):\n",
    "    if '한화.xlsx' in os.listdir(f'by_year/{i}'):\n",
    "        df_list.append(pd.read_excel(f'by_year/{i}/한화.xlsx', sheet_name='hitter_record'))\n",
    "    elif '빙그레.xlsx' in os.listdir(f'by_year/{i}'):\n",
    "        df_list.append(pd.read_excel( f'by_year/{i}/빙그레.xlsx', sheet_name='hitter_record'))\n",
    "    else:\n",
    "        cnt += 1"
   ]
  },
  {
   "cell_type": "code",
   "execution_count": null,
   "id": "dab9f650",
   "metadata": {},
   "outputs": [],
   "source": [
    "avg_mean = [None] * cnt\n",
    "for i in range(len(df_list)):\n",
    "    main = df_list[i].nlargest(10, 'G')\n",
    "    main['AVG'] = pd.to_numeric(main['AVG'], downcast=\"float\")\n",
    "    avg_mean.append(main['AVG'].mean())"
   ]
  },
  {
   "cell_type": "code",
   "execution_count": null,
   "id": "4b3a0c0e",
   "metadata": {},
   "outputs": [],
   "source": [
    "avg_df = pd.DataFrame(columns=['연도', '평타'])\n",
    "years = [x for x in range(1982, 2022)]\n",
    "for i in range(len(avg_mean)):\n",
    "    avg_df.loc[i] = [years[i], avg_mean[i]]"
   ]
  },
  {
   "cell_type": "code",
   "execution_count": null,
   "id": "7f1dd8f3",
   "metadata": {},
   "outputs": [],
   "source": [
    "avg_df"
   ]
  },
  {
   "cell_type": "code",
   "execution_count": null,
   "id": "6b23a5bb",
   "metadata": {},
   "outputs": [],
   "source": [
    "len(avg_mean)\n",
    "len(years)"
   ]
  },
  {
   "cell_type": "code",
   "execution_count": null,
   "id": "28856f4f",
   "metadata": {},
   "outputs": [],
   "source": [
    "fig, ax1 = plt.subplots(figsize=(25,5))\n",
    "ax1.set_xlabel('연도')\n",
    "ax1.set_ylabel('순위')\n",
    "plt.gca().invert_yaxis()\n",
    "line1 = ax1.plot(df['연도'], df['한화'], color='green', label='1st Data')\n",
    "\n",
    "ax2 = ax1.twinx()\n",
    "ax2.set_ylabel('팀 평균타율')\n",
    "line2 = ax2.plot(avg_df['연도'], avg_df['평타'], color='deeppink', label='2nd Data')\n",
    "\n",
    "lines = line1 + line2\n",
    "labels = [l.get_label() for l in lines]\n",
    "ax1.legend(lines, labels, loc='upper right')\n",
    "plt.show()"
   ]
  },
  {
   "cell_type": "code",
   "execution_count": null,
   "id": "98bfc828",
   "metadata": {},
   "outputs": [],
   "source": []
  },
  {
   "cell_type": "code",
   "execution_count": null,
   "id": "a0b2420d",
   "metadata": {},
   "outputs": [],
   "source": [
    "plt.figure(figsize=(25,5))            \n",
    "\n",
    "\n",
    "plt.gca().invert_yaxis()\n",
    "line1 = plt.plot(df['연도'], df['두산'], color='blue', alpha=0.5, linewidth=2)\n",
    "\n",
    "fig = plt.twinx()\n",
    "line2 = fig.plot(avg_df['연도'], avg_df['평타'], color='red', alpha=0.5, linewidth=2)\n",
    "\n",
    "lines = line1 + line2\n",
    "labels = [l.get_label() for l in lines]\n",
    "plt.legend(lines, labels, loc='upper right')\n",
    "plt.show()"
   ]
  },
  {
   "cell_type": "code",
   "execution_count": null,
   "id": "e5323d25",
   "metadata": {},
   "outputs": [],
   "source": [
    "plt.figure(figsize=(25,5))            \n",
    "plt.plot(df['연도'], df['두산'], color='blue', alpha=0.5, linewidth=2)\n",
    "plt.gca().invert_yaxis()\n",
    "\n",
    "fig = plt.twinx()\n",
    "fig.plot(avg_df['연도'], avg_df['평타'], color='red', alpha=0.5, linewidth=2)\n",
    "\n",
    "\n",
    "\n",
    "lines = plt + fig\n",
    "labels = [l.get_label() for l in lines]\n",
    "plt.legend(lines, labels, loc='upper right')\n",
    "\n",
    "\n",
    "\n",
    "plt.show()"
   ]
  },
  {
   "cell_type": "code",
   "execution_count": null,
   "id": "57c57634",
   "metadata": {},
   "outputs": [],
   "source": []
  },
  {
   "cell_type": "markdown",
   "id": "ed383275",
   "metadata": {},
   "source": [
    "## 선수분포"
   ]
  },
  {
   "cell_type": "code",
   "execution_count": null,
   "id": "bdb19090",
   "metadata": {},
   "outputs": [],
   "source": [
    "for name in name_change:\n",
    "    if '두산' in name:\n",
    "        name_list = name"
   ]
  },
  {
   "cell_type": "code",
   "execution_count": null,
   "id": "5d0b955b",
   "metadata": {},
   "outputs": [],
   "source": [
    "df_list = []\n",
    "cnt = 0\n",
    "for i in range(1982, 2022):\n",
    "    if all(f'{n}.xlsx' not in os.listdir(f'by_year/{i}') for n in name_list):\n",
    "        cnt += 1\n",
    "    else:\n",
    "        for n in name_list:\n",
    "            if f'{n}.xlsx' in os.listdir(f'by_year/{i}'):\n",
    "                df_list.append(pd.read_excel(f'by_year/{i}/{n}.xlsx', sheet_name='hitter_record'))"
   ]
  },
  {
   "cell_type": "code",
   "execution_count": null,
   "id": "be5d2928",
   "metadata": {},
   "outputs": [],
   "source": [
    "hit_hist = [None] * cnt\n",
    "for df_ in df_list:\n",
    "    player = df_[df_['G'] >= 72]\n",
    "    player['AVG'].replace('-', None, inplace=True)\n",
    "    player['AVG'] = pd.to_numeric(player['AVG'], downcast=\"float\")\n",
    "    hit_hist.append(player['AVG'])"
   ]
  },
  {
   "cell_type": "code",
   "execution_count": null,
   "id": "dc370360",
   "metadata": {},
   "outputs": [],
   "source": [
    "hit_hist[0].hist()"
   ]
  },
  {
   "cell_type": "code",
   "execution_count": null,
   "id": "e620eba5",
   "metadata": {},
   "outputs": [],
   "source": []
  },
  {
   "cell_type": "code",
   "execution_count": null,
   "id": "5b8bd88c",
   "metadata": {},
   "outputs": [],
   "source": [
    "avg_df = pd.DataFrame(columns=['연도', '평타'])\n",
    "years = [x for x in range(1982, 2022)]\n",
    "for i in range(len(avg_mean)):\n",
    "    avg_df.loc[i] = [years[i], avg_mean[i]]"
   ]
  },
  {
   "cell_type": "code",
   "execution_count": null,
   "id": "34167697",
   "metadata": {},
   "outputs": [],
   "source": [
    "# 그래프 그리기\n",
    "fig, ax1 = plt.subplots(figsize=(20,5))\n",
    "ax1.set_xlabel('연도')\n",
    "ax1.set_ylabel('순위')\n",
    "plt.gca().invert_yaxis()\n",
    "line1 = ax1.plot(df['연도'], df[name_list[-1]], color='blue', alpha=0.5, linewidth=2, label='순위')\n",
    "\n",
    "ax2 = ax1.twinx()\n",
    "ax2.set_ylabel('팀 평균타율')\n",
    "line2 = ax2.plot(avg_df['연도'], avg_df['평타'], color='red', alpha=0.5, linewidth=2, label='팀 평균타율')\n",
    "\n",
    "lines = line1 + line2\n",
    "labels = [l.get_label() for l in lines]\n",
    "ax1.legend(lines, labels, loc='upper right')\n",
    "plt.show()"
   ]
  },
  {
   "cell_type": "code",
   "execution_count": null,
   "id": "4482e998",
   "metadata": {},
   "outputs": [],
   "source": []
  },
  {
   "cell_type": "markdown",
   "id": "deb9eb51",
   "metadata": {},
   "source": [
    "## 타율, 도루"
   ]
  },
  {
   "cell_type": "code",
   "execution_count": null,
   "id": "477e016b",
   "metadata": {},
   "outputs": [],
   "source": [
    "tmp = pd.read_excel('by_year/2021/두산.xlsx')"
   ]
  },
  {
   "cell_type": "code",
   "execution_count": null,
   "id": "14e2d213",
   "metadata": {},
   "outputs": [],
   "source": [
    "tmp[tmp['G'] >= 72]"
   ]
  },
  {
   "cell_type": "code",
   "execution_count": null,
   "id": "0d56873c",
   "metadata": {},
   "outputs": [],
   "source": []
  },
  {
   "cell_type": "code",
   "execution_count": null,
   "id": "f9777594",
   "metadata": {},
   "outputs": [],
   "source": [
    "tmp_hit = pd.read_excel('by_year/2021/두산.xlsx', sheet_name='hitter_record')\n",
    "tmp_run = pd.read_excel('by_year/2021/두산.xlsx', sheet_name='run_record')"
   ]
  },
  {
   "cell_type": "code",
   "execution_count": null,
   "id": "58cda29c",
   "metadata": {},
   "outputs": [],
   "source": [
    "tmp_hit.set_index('선수명', inplace=True)\n",
    "tmp_run.set_index('선수명', inplace=True)"
   ]
  },
  {
   "cell_type": "code",
   "execution_count": null,
   "id": "97560ea0",
   "metadata": {},
   "outputs": [],
   "source": [
    "tmp_hit = tmp_hit[tmp_hit['G'] >= 72][['AVG']]\n",
    "tmp_run = tmp_run[tmp_run['SBA'] > 0][['SBA']]"
   ]
  },
  {
   "cell_type": "code",
   "execution_count": null,
   "id": "16719ad5",
   "metadata": {},
   "outputs": [],
   "source": [
    "tmp_con = pd.concat([tmp_hit, tmp_run], axis=1)"
   ]
  },
  {
   "cell_type": "code",
   "execution_count": null,
   "id": "2753055f",
   "metadata": {},
   "outputs": [],
   "source": [
    "tmp_con = tmp_con.reset_index()"
   ]
  },
  {
   "cell_type": "code",
   "execution_count": null,
   "id": "35bda277",
   "metadata": {},
   "outputs": [],
   "source": [
    "tmp_con['AVG'] = pd.to_numeric(tmp_con['AVG'], downcast=\"float\")\n",
    "tmp_con"
   ]
  },
  {
   "cell_type": "code",
   "execution_count": null,
   "id": "356f90b6",
   "metadata": {},
   "outputs": [],
   "source": [
    "# 그림 사이즈, 바 굵기 조정\n",
    "fig, ax = plt.subplots(figsize=(20,10))\n",
    "bar_width = 0.25\n",
    "\n",
    "# 연도가 4개이므로 0, 1, 2, 3 위치를 기준으로 삼음\n",
    "index = np.arange(len(tmp_con))\n",
    "\n",
    "# 각 연도별로 3개 샵의 bar를 순서대로 나타내는 과정, 각 그래프는 0.25의 간격을 두고 그려짐\n",
    "b1 = plt.bar(index, tmp_con['AVG'], bar_width, alpha=0.4, color='red', label='AVG')\n",
    "plt.legend(loc='upper left')\n",
    "\n",
    "fig = plt.twinx()\n",
    "b2 = fig.bar(index + bar_width, tmp_con['SBA'], bar_width, alpha=0.4, color='blue', label='SBA')\n",
    "fig.legend(loc='upper right')\n",
    "\n",
    "name = list(tmp_con['선수명'])\n",
    "\n",
    "# x축 위치를 정 가운데로 조정하고 x축의 텍스트를 name 정보와 매칭\n",
    "plt.xticks(np.arange(bar_width, len(tmp_con) + bar_width, 1), name)\n",
    "\n",
    "# x축, y축 이름 및 범례 설정\n",
    "plt.xlabel('player', size = 13)\n",
    "plt.ylabel(['hit', 'run'], size = 13)\n",
    "plt.legend()\n",
    "\n",
    "plt.show()"
   ]
  }
 ],
 "metadata": {
  "kernelspec": {
   "display_name": "Python 3 (ipykernel)",
   "language": "python",
   "name": "python3"
  },
  "language_info": {
   "codemirror_mode": {
    "name": "ipython",
    "version": 3
   },
   "file_extension": ".py",
   "mimetype": "text/x-python",
   "name": "python",
   "nbconvert_exporter": "python",
   "pygments_lexer": "ipython3",
   "version": "3.8.13"
  },
  "toc": {
   "base_numbering": 1,
   "nav_menu": {},
   "number_sections": false,
   "sideBar": true,
   "skip_h1_title": false,
   "title_cell": "Table of Contents",
   "title_sidebar": "Contents",
   "toc_cell": false,
   "toc_position": {},
   "toc_section_display": true,
   "toc_window_display": false
  }
 },
 "nbformat": 4,
 "nbformat_minor": 5
}
