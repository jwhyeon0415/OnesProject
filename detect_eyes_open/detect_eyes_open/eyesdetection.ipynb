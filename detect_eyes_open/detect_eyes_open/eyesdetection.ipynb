version https://git-lfs.github.com/spec/v1
oid sha256:913c93fee55b8d6a7161e42f6430c4a0ea615d26f5824ecaa6039192d7540411
size 1358379
