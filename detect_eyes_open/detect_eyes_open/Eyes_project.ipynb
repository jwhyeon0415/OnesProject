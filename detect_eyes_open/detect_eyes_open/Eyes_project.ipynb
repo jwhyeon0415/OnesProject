version https://git-lfs.github.com/spec/v1
oid sha256:02057e46514b43f707f1b47e1058ca028782a52cf10f6813f2235fe37dcf0531
size 1883349
